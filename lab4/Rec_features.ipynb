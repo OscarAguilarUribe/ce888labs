{
 "cells": [
  {
   "cell_type": "markdown",
   "metadata": {
    "slideshow": {
     "slide_type": "slide"
    }
   },
   "source": [
    "# Hybrid Models for Recommendation Systems"
   ]
  },
  {
   "cell_type": "markdown",
   "metadata": {
    "slideshow": {
     "slide_type": "slide"
    }
   },
   "source": [
    "Load Pandas, we are going to need it for manipulating data"
   ]
  },
  {
   "cell_type": "code",
   "execution_count": 10,
   "metadata": {
    "slideshow": {
     "slide_type": "fragment"
    }
   },
   "outputs": [],
   "source": [
    "import pandas as pd\n",
    "import numpy as np\n",
    "from IPython.display import Image\n",
    "np.set_printoptions(precision = 3)"
   ]
  },
  {
   "cell_type": "markdown",
   "metadata": {
    "slideshow": {
     "slide_type": "slide"
    }
   },
   "source": [
    "Now load the data"
   ]
  },
  {
   "cell_type": "code",
   "execution_count": 27,
   "metadata": {
    "slideshow": {
     "slide_type": "fragment"
    }
   },
   "outputs": [
    {
     "name": "stdout",
     "output_type": "stream",
     "text": [
      "\\begin{tabular}{lrrrrrrrl}\n",
      "\\toprule\n",
      "Empty DataFrame\n",
      "Columns: Index(['Sex', ' Over60', 'key', 'user\\_id', 'Critic0', ' Critic1', 'item\\_id',\n",
      "       'rating'],\n",
      "      dtype='object')\n",
      "Index: Int64Index([], dtype='int64') \\\\\n",
      "\\bottomrule\n",
      "\\end{tabular}\n",
      "\n"
     ]
    }
   ],
   "source": [
    "user_ratings_df = pd.read_csv(\"user_ratings.csv\")\n",
    "user_features_df = pd.read_csv(\"user_features.csv\")\n",
    "item_features_df = pd.read_csv(\"item_features.csv\")\n",
    "\n",
    "\n",
    "user_features_df[\"key\"] = 0\n",
    "user_features_df[\"user_id\"] = range(0,user_features_df.shape[0])\n",
    "item_features_df[\"key\"] = 0\n",
    "item_features_df[\"item_id\"] = range(0,item_features_df.shape[0])\n",
    "\n",
    "merged_df = pd.merge(user_features_df, item_features_df,left_index=True,on=\"key\")\n",
    "merged_df[[\"item_id\", \"user_id\"]]\n",
    "\n",
    "merged_df[\"rating\"] = map(lambda ids: user_ratings_df.values[ids[1]][ids[2]],\n",
    "                          merged_df[[\"user_id\", \"item_id\"]].itertuples())\n",
    "\n",
    "train = merged_df.dropna()\n",
    "\n",
    "test = merged_df[merged_df.isnull().any(axis=1)]\n",
    "\n",
    "print(test.to_latex())\n",
    "\n",
    "\n",
    "\n"
   ]
  },
  {
   "cell_type": "code",
   "execution_count": 30,
   "metadata": {
    "slideshow": {
     "slide_type": "slide"
    }
   },
   "outputs": [
    {
     "name": "stdout",
     "output_type": "stream",
     "text": [
      "\\begin{tabular}{lrrrr}\n",
      "\\toprule\n",
      "{} &  Critic0 &   Critic1 &  key &  item\\_id \\\\\n",
      "\\midrule\n",
      "0 &      0.3 &       0.9 &    0 &        0 \\\\\n",
      "1 &      0.9 &       0.3 &    0 &        1 \\\\\n",
      "2 &      0.6 &       0.4 &    0 &        2 \\\\\n",
      "3 &      0.2 &       0.1 &    0 &        3 \\\\\n",
      "4 &      0.7 &       0.8 &    0 &        4 \\\\\n",
      "\\bottomrule\n",
      "\\end{tabular}\n",
      "\n"
     ]
    }
   ],
   "source": [
    "n_latent_features = 2\n",
    "\n",
    "user_ratings = user_ratings_df.values\n",
    "latent_user_preferences = np.random.random((user_ratings.shape[0], n_latent_features))\n",
    "latent_item_features = np.random.random((user_ratings.shape[1],n_latent_features))\n",
    "\n",
    "user_features = user_features_df.values\n",
    "item_features = item_features_df.values\n",
    "\n",
    "print(item_features_df.to_latex())\n",
    "\n",
    "\n",
    "user_features = np.concatenate([np.ones(shape = (user_features.shape[0],1)), user_features], axis = 1)\n",
    "item_features = np.concatenate([np.ones(shape = (item_features.shape[0],1)), item_features], axis = 1)\n",
    "\n",
    "\n",
    "\n",
    "user_features_weights = np.random.random((user_ratings.shape[0], user_features.shape[1] ))\n",
    "item_features_weights = np.random.random((user_ratings.shape[1],item_features.shape[1] ))\n",
    "\n",
    "\n",
    "\n",
    "# print user_features"
   ]
  },
  {
   "cell_type": "code",
   "execution_count": null,
   "metadata": {
    "slideshow": {
     "slide_type": "slide"
    }
   },
   "outputs": [],
   "source": [
    "def predict_rating(user_id,item_id):\n",
    "    \"\"\" Predict a rating given a user_id and an item_id.\n",
    "    \"\"\"\n",
    "    user_preference = latent_user_preferences[user_id]\n",
    "    item_preference = latent_item_features[item_id]\n",
    "    \n",
    "    user_score = user_features_weights[user_id].dot(user_features[user_id])\n",
    "    item_score = item_features_weights[item_id].dot(item_features[item_id])\n",
    "    #print user_preference.dot(item_preference), user_score, item_score\n",
    "    return user_preference.dot(item_preference) + user_score + item_score\n",
    "\n",
    "def train(user_id, item_id, rating,alpha = 0.001, \n",
    "                                   latent_feature_weight_decay = 0.1, \n",
    "                                   user_weight_decay = 0.01,\n",
    "                                   item_weight_decay = 0.0001):\n",
    "    \n",
    "    #print item_id\n",
    "    prediction_rating = predict_rating(user_id, item_id)\n",
    "    err =  ( prediction_rating - rating );\n",
    "    #print err\n",
    "    user_pref_values = latent_user_preferences[user_id][:]\n",
    "    latent_user_preferences[user_id] -= alpha * err *  ( latent_item_features[item_id] + latent_feature_weight_decay*latent_user_preferences[user_id])\n",
    "    latent_item_features[item_id] -= alpha * err * ( user_pref_values + latent_feature_weight_decay*latent_item_features[item_id])\n",
    "    \n",
    "    user_features_weights[user_id] -=alpha * err *(  user_features[user_id] + user_weight_decay* user_features_weights[user_id])\n",
    "    item_features_weights[item_id] -=alpha * err * ( item_features_weights[item_id] + item_weight_decay* item_features_weights[item_id])\n",
    "    \n",
    "    \n",
    "    return err\n",
    "    \n",
    "\n",
    "\n",
    "def sgd(iterations = 30000):\n",
    "    \"\"\" Iterate over all users and all items and train for \n",
    "        a certain number of iterations\n",
    "    \"\"\"\n",
    "    for iteration in range(0,iterations):\n",
    "        error = []\n",
    "        for user_id in range(0,latent_user_preferences.shape[0]):\n",
    "            for item_id in range(0,latent_item_features.shape[0]):\n",
    "                rating = user_ratings[user_id][item_id]\n",
    "                if(not np.isnan(rating)):\n",
    "                    err = train(user_id,item_id,rating)\n",
    "                    error.append(err)\n",
    "    mse = (np.array(error) ** 2).mean()          \n",
    "    print mse\n",
    "                    \n",
    "                    \n",
    "    \n",
    "                    \n",
    "                    \n",
    "    \n"
   ]
  },
  {
   "cell_type": "code",
   "execution_count": 35,
   "metadata": {
    "slideshow": {
     "slide_type": "fragment"
    }
   },
   "outputs": [
    {
     "name": "stdout",
     "output_type": "stream",
     "text": [
      "0.2774882151356727\n",
      "0.27734165846084846\n",
      "0.2772213285908355\n",
      "0.27712223909739203\n",
      "0.2770407668242187\n",
      "0.2769742338328237\n",
      "0.2769206377683887\n",
      "0.2768784727564912\n",
      "0.2768466074891672\n",
      "0.2768242005759273\n"
     ]
    }
   ],
   "source": [
    "for _ in range(0,10): \n",
    "    sgd()"
   ]
  },
  {
   "cell_type": "code",
   "execution_count": 37,
   "metadata": {
    "slideshow": {
     "slide_type": "slide"
    }
   },
   "outputs": [
    {
     "name": "stdout",
     "output_type": "stream",
     "text": [
      "[[-1.591 -1.641  0.956  0.852  0.967]\n",
      " [ 3.142  0.955  3.023  0.031  3.662]\n",
      " [ 0.951  0.048  0.38   0.24   0.829]\n",
      " [ 0.734  0.353  0.998  0.395  0.831]\n",
      " [ 0.395  0.551 -0.027  0.9   -0.062]\n",
      " [ 0.92   0.628  0.191  0.68   0.989]\n",
      " [ 0.555  0.855  0.945  0.438 -0.32 ]\n",
      " [ 0.464  0.899  0.966  0.787  0.02 ]\n",
      " [ 0.472  0.655  0.666  0.412  1.148]\n",
      " [ 0.622  0.434  0.89   0.055 -0.264]]\n",
      "[[1.551e+00 1.444e+00 1.482e+00 1.326e+00 3.316e-01]\n",
      " [4.625e-03 1.048e-04 1.960e-03 3.145e-03 3.518e-03]\n",
      " [1.870e+00 4.825e+00 3.805e+00 4.909e+00 3.428e+00]\n",
      " [9.966e-01 5.648e-01 5.605e-01 1.409e-01 6.204e-01]\n",
      " [6.265e-01 3.785e-01 6.169e-01 6.466e-01 1.014e+00]]\n"
     ]
    }
   ],
   "source": [
    "predictions = np.zeros(shape = (latent_user_preferences.shape[0], latent_item_features.shape[0]) )\n",
    "#print latent_user_preferences\n",
    "print (user_features_weights)\n",
    "print (item_features_weights)\n",
    "for user_id in range(0,latent_user_preferences.shape[0]):\n",
    "            for item_id in range(0,latent_item_features.shape[0]):\n",
    "                predictions[user_id,item_id] =  predict_rating(user_id,item_id)\n",
    "\n",
    "  "
   ]
  },
  {
   "cell_type": "code",
   "execution_count": 42,
   "metadata": {
    "slideshow": {
     "slide_type": "slide"
    }
   },
   "outputs": [
    {
     "data": {
      "text/html": [
       "<div>\n",
       "<style scoped>\n",
       "    .dataframe tbody tr th:only-of-type {\n",
       "        vertical-align: middle;\n",
       "    }\n",
       "\n",
       "    .dataframe tbody tr th {\n",
       "        vertical-align: top;\n",
       "    }\n",
       "\n",
       "    .dataframe thead th {\n",
       "        text-align: right;\n",
       "    }\n",
       "</style>\n",
       "<table border=\"1\" class=\"dataframe\">\n",
       "  <thead>\n",
       "    <tr style=\"text-align: right;\">\n",
       "      <th></th>\n",
       "      <th>0</th>\n",
       "      <th>1</th>\n",
       "      <th>2</th>\n",
       "      <th>3</th>\n",
       "      <th>4</th>\n",
       "    </tr>\n",
       "  </thead>\n",
       "  <tbody>\n",
       "    <tr>\n",
       "      <th>0</th>\n",
       "      <td>(8.000|7.984)</td>\n",
       "      <td>(2.000|2.064)</td>\n",
       "      <td>(nan|-30.740)</td>\n",
       "      <td>(5.000|4.961)</td>\n",
       "      <td>(4.000|3.992)</td>\n",
       "    </tr>\n",
       "    <tr>\n",
       "      <th>1</th>\n",
       "      <td>(3.000|2.896)</td>\n",
       "      <td>(2.000|2.536)</td>\n",
       "      <td>(nan|87.307)</td>\n",
       "      <td>(7.000|6.636)</td>\n",
       "      <td>(7.000|6.934)</td>\n",
       "    </tr>\n",
       "    <tr>\n",
       "      <th>2</th>\n",
       "      <td>(9.000|9.030)</td>\n",
       "      <td>(nan|4.421)</td>\n",
       "      <td>(7.000|7.001)</td>\n",
       "      <td>(8.000|7.969)</td>\n",
       "      <td>(5.000|5.001)</td>\n",
       "    </tr>\n",
       "    <tr>\n",
       "      <th>3</th>\n",
       "      <td>(nan|8.969)</td>\n",
       "      <td>(nan|4.939)</td>\n",
       "      <td>(7.000|7.000)</td>\n",
       "      <td>(8.000|8.000)</td>\n",
       "      <td>(9.000|9.000)</td>\n",
       "    </tr>\n",
       "    <tr>\n",
       "      <th>4</th>\n",
       "      <td>(nan|3.950)</td>\n",
       "      <td>(1.000|0.572)</td>\n",
       "      <td>(8.000|7.993)</td>\n",
       "      <td>(3.000|3.371)</td>\n",
       "      <td>(7.000|7.050)</td>\n",
       "    </tr>\n",
       "    <tr>\n",
       "      <th>5</th>\n",
       "      <td>(2.000|2.000)</td>\n",
       "      <td>(3.000|2.996)</td>\n",
       "      <td>(5.000|5.000)</td>\n",
       "      <td>(nan|2.050)</td>\n",
       "      <td>(nan|36.176)</td>\n",
       "    </tr>\n",
       "    <tr>\n",
       "      <th>6</th>\n",
       "      <td>(4.000|4.331)</td>\n",
       "      <td>(2.000|0.422)</td>\n",
       "      <td>(nan|-5.436)</td>\n",
       "      <td>(2.000|3.008)</td>\n",
       "      <td>(7.000|7.190)</td>\n",
       "    </tr>\n",
       "    <tr>\n",
       "      <th>7</th>\n",
       "      <td>(7.000|6.740)</td>\n",
       "      <td>(1.000|2.899)</td>\n",
       "      <td>(2.000|2.069)</td>\n",
       "      <td>(7.000|5.672)</td>\n",
       "      <td>(9.000|8.779)</td>\n",
       "    </tr>\n",
       "    <tr>\n",
       "      <th>8</th>\n",
       "      <td>(3.000|3.104)</td>\n",
       "      <td>(3.000|2.524)</td>\n",
       "      <td>(nan|97.549)</td>\n",
       "      <td>(7.000|7.290)</td>\n",
       "      <td>(3.000|3.056)</td>\n",
       "    </tr>\n",
       "    <tr>\n",
       "      <th>9</th>\n",
       "      <td>(4.000|3.913)</td>\n",
       "      <td>(nan|-0.142)</td>\n",
       "      <td>(5.000|4.989)</td>\n",
       "      <td>(3.000|3.086)</td>\n",
       "      <td>(3.000|2.998)</td>\n",
       "    </tr>\n",
       "  </tbody>\n",
       "</table>\n",
       "</div>"
      ],
      "text/plain": [
       "               0              1              2              3              4\n",
       "0  (8.000|7.984)  (2.000|2.064)  (nan|-30.740)  (5.000|4.961)  (4.000|3.992)\n",
       "1  (3.000|2.896)  (2.000|2.536)   (nan|87.307)  (7.000|6.636)  (7.000|6.934)\n",
       "2  (9.000|9.030)    (nan|4.421)  (7.000|7.001)  (8.000|7.969)  (5.000|5.001)\n",
       "3    (nan|8.969)    (nan|4.939)  (7.000|7.000)  (8.000|8.000)  (9.000|9.000)\n",
       "4    (nan|3.950)  (1.000|0.572)  (8.000|7.993)  (3.000|3.371)  (7.000|7.050)\n",
       "5  (2.000|2.000)  (3.000|2.996)  (5.000|5.000)    (nan|2.050)   (nan|36.176)\n",
       "6  (4.000|4.331)  (2.000|0.422)   (nan|-5.436)  (2.000|3.008)  (7.000|7.190)\n",
       "7  (7.000|6.740)  (1.000|2.899)  (2.000|2.069)  (7.000|5.672)  (9.000|8.779)\n",
       "8  (3.000|3.104)  (3.000|2.524)   (nan|97.549)  (7.000|7.290)  (3.000|3.056)\n",
       "9  (4.000|3.913)   (nan|-0.142)  (5.000|4.989)  (3.000|3.086)  (3.000|2.998)"
      ]
     },
     "execution_count": 42,
     "metadata": {},
     "output_type": "execute_result"
    }
   ],
   "source": [
    "values = [zip(user_ratings[i], predictions[i]) for i in range(0,predictions.shape[0])]\n",
    "comparison_data = pd.DataFrame(values)\n",
    "\n",
    "comparison_data.applymap(lambda xy: \"(%2.3f|%2.3f)\"%(xy[0],xy[1]))"
   ]
  },
  {
   "cell_type": "code",
   "execution_count": 43,
   "metadata": {
    "slideshow": {
     "slide_type": "fragment"
    }
   },
   "outputs": [
    {
     "data": {
      "text/html": [
       "<div>\n",
       "<style scoped>\n",
       "    .dataframe tbody tr th:only-of-type {\n",
       "        vertical-align: middle;\n",
       "    }\n",
       "\n",
       "    .dataframe tbody tr th {\n",
       "        vertical-align: top;\n",
       "    }\n",
       "\n",
       "    .dataframe thead th {\n",
       "        text-align: right;\n",
       "    }\n",
       "</style>\n",
       "<table border=\"1\" class=\"dataframe\">\n",
       "  <thead>\n",
       "    <tr style=\"text-align: right;\">\n",
       "      <th></th>\n",
       "      <th>0</th>\n",
       "      <th>1</th>\n",
       "      <th>2</th>\n",
       "      <th>3</th>\n",
       "      <th>4</th>\n",
       "    </tr>\n",
       "  </thead>\n",
       "  <tbody>\n",
       "    <tr>\n",
       "      <th>0</th>\n",
       "      <td>(8.0, 7.984024638884739)</td>\n",
       "      <td>(2.0, 2.063951276573669)</td>\n",
       "      <td>(nan, -30.74014631201564)</td>\n",
       "      <td>(5.0, 4.961249899788864)</td>\n",
       "      <td>(4.0, 3.9922243502674255)</td>\n",
       "    </tr>\n",
       "    <tr>\n",
       "      <th>1</th>\n",
       "      <td>(3.0, 2.896479074931704)</td>\n",
       "      <td>(2.0, 2.535884349225416)</td>\n",
       "      <td>(nan, 87.30702190090577)</td>\n",
       "      <td>(7.0, 6.635985137847951)</td>\n",
       "      <td>(7.0, 6.93357806034153)</td>\n",
       "    </tr>\n",
       "    <tr>\n",
       "      <th>2</th>\n",
       "      <td>(9.0, 9.029647572258058)</td>\n",
       "      <td>(nan, 4.4214547671021185)</td>\n",
       "      <td>(7.0, 7.001242458557483)</td>\n",
       "      <td>(8.0, 7.968597851811825)</td>\n",
       "      <td>(5.0, 5.000592251545798)</td>\n",
       "    </tr>\n",
       "    <tr>\n",
       "      <th>3</th>\n",
       "      <td>(nan, 8.968764993980841)</td>\n",
       "      <td>(nan, 4.939029068399684)</td>\n",
       "      <td>(7.0, 6.999987396272914)</td>\n",
       "      <td>(8.0, 8.000336095994896)</td>\n",
       "      <td>(9.0, 8.999911114894216)</td>\n",
       "    </tr>\n",
       "    <tr>\n",
       "      <th>4</th>\n",
       "      <td>(nan, 3.949845353131745)</td>\n",
       "      <td>(1.0, 0.5715069665884411)</td>\n",
       "      <td>(8.0, 7.993372744189076)</td>\n",
       "      <td>(3.0, 3.3705578575672903)</td>\n",
       "      <td>(7.0, 7.049762246275962)</td>\n",
       "    </tr>\n",
       "    <tr>\n",
       "      <th>5</th>\n",
       "      <td>(2.0, 2.0003219121516387)</td>\n",
       "      <td>(3.0, 2.9955461709298534)</td>\n",
       "      <td>(5.0, 4.999917450433092)</td>\n",
       "      <td>(nan, 2.0497002540178633)</td>\n",
       "      <td>(nan, 36.176362970265565)</td>\n",
       "    </tr>\n",
       "    <tr>\n",
       "      <th>6</th>\n",
       "      <td>(4.0, 4.33073970409918)</td>\n",
       "      <td>(2.0, 0.4224903630990512)</td>\n",
       "      <td>(nan, -5.436418390985395)</td>\n",
       "      <td>(2.0, 3.007530703119207)</td>\n",
       "      <td>(7.0, 7.189812240972175)</td>\n",
       "    </tr>\n",
       "    <tr>\n",
       "      <th>7</th>\n",
       "      <td>(7.0, 6.740437717556624)</td>\n",
       "      <td>(1.0, 2.8986410227225683)</td>\n",
       "      <td>(2.0, 2.0692589133211374)</td>\n",
       "      <td>(7.0, 5.671696793425857)</td>\n",
       "      <td>(9.0, 8.779011497220388)</td>\n",
       "    </tr>\n",
       "    <tr>\n",
       "      <th>8</th>\n",
       "      <td>(3.0, 3.1038187771381938)</td>\n",
       "      <td>(3.0, 2.5235245593192603)</td>\n",
       "      <td>(nan, 97.54870633926299)</td>\n",
       "      <td>(7.0, 7.289992851346297)</td>\n",
       "      <td>(3.0, 3.055645458034933)</td>\n",
       "    </tr>\n",
       "    <tr>\n",
       "      <th>9</th>\n",
       "      <td>(4.0, 3.91272822083881)</td>\n",
       "      <td>(nan, -0.14192957404870488)</td>\n",
       "      <td>(5.0, 4.9894687787382335)</td>\n",
       "      <td>(3.0, 3.086347363796628)</td>\n",
       "      <td>(3.0, 2.9981515396592413)</td>\n",
       "    </tr>\n",
       "  </tbody>\n",
       "</table>\n",
       "</div>"
      ],
      "text/plain": [
       "                           0                            1  \\\n",
       "0   (8.0, 7.984024638884739)     (2.0, 2.063951276573669)   \n",
       "1   (3.0, 2.896479074931704)     (2.0, 2.535884349225416)   \n",
       "2   (9.0, 9.029647572258058)    (nan, 4.4214547671021185)   \n",
       "3   (nan, 8.968764993980841)     (nan, 4.939029068399684)   \n",
       "4   (nan, 3.949845353131745)    (1.0, 0.5715069665884411)   \n",
       "5  (2.0, 2.0003219121516387)    (3.0, 2.9955461709298534)   \n",
       "6    (4.0, 4.33073970409918)    (2.0, 0.4224903630990512)   \n",
       "7   (7.0, 6.740437717556624)    (1.0, 2.8986410227225683)   \n",
       "8  (3.0, 3.1038187771381938)    (3.0, 2.5235245593192603)   \n",
       "9    (4.0, 3.91272822083881)  (nan, -0.14192957404870488)   \n",
       "\n",
       "                           2                          3  \\\n",
       "0  (nan, -30.74014631201564)   (5.0, 4.961249899788864)   \n",
       "1   (nan, 87.30702190090577)   (7.0, 6.635985137847951)   \n",
       "2   (7.0, 7.001242458557483)   (8.0, 7.968597851811825)   \n",
       "3   (7.0, 6.999987396272914)   (8.0, 8.000336095994896)   \n",
       "4   (8.0, 7.993372744189076)  (3.0, 3.3705578575672903)   \n",
       "5   (5.0, 4.999917450433092)  (nan, 2.0497002540178633)   \n",
       "6  (nan, -5.436418390985395)   (2.0, 3.007530703119207)   \n",
       "7  (2.0, 2.0692589133211374)   (7.0, 5.671696793425857)   \n",
       "8   (nan, 97.54870633926299)   (7.0, 7.289992851346297)   \n",
       "9  (5.0, 4.9894687787382335)   (3.0, 3.086347363796628)   \n",
       "\n",
       "                           4  \n",
       "0  (4.0, 3.9922243502674255)  \n",
       "1    (7.0, 6.93357806034153)  \n",
       "2   (5.0, 5.000592251545798)  \n",
       "3   (9.0, 8.999911114894216)  \n",
       "4   (7.0, 7.049762246275962)  \n",
       "5  (nan, 36.176362970265565)  \n",
       "6   (7.0, 7.189812240972175)  \n",
       "7   (9.0, 8.779011497220388)  \n",
       "8   (3.0, 3.055645458034933)  \n",
       "9  (3.0, 2.9981515396592413)  "
      ]
     },
     "execution_count": 43,
     "metadata": {},
     "output_type": "execute_result"
    }
   ],
   "source": [
    "comparison_data"
   ]
  },
  {
   "cell_type": "code",
   "execution_count": 45,
   "metadata": {},
   "outputs": [],
   "source": [
    "d = comparison_data.to_latex()\n",
    "text_file = open(\"comparison.txt\", \"w\")\n",
    "text_file.write(d)\n",
    "text_file.close()"
   ]
  },
  {
   "cell_type": "code",
   "execution_count": null,
   "metadata": {},
   "outputs": [],
   "source": []
  },
  {
   "cell_type": "code",
   "execution_count": null,
   "metadata": {},
   "outputs": [],
   "source": []
  },
  {
   "cell_type": "code",
   "execution_count": null,
   "metadata": {},
   "outputs": [],
   "source": []
  },
  {
   "cell_type": "code",
   "execution_count": null,
   "metadata": {},
   "outputs": [],
   "source": []
  }
 ],
 "metadata": {
  "kernelspec": {
   "display_name": "Python 3",
   "language": "python",
   "name": "python3"
  },
  "language_info": {
   "codemirror_mode": {
    "name": "ipython",
    "version": 3
   },
   "file_extension": ".py",
   "mimetype": "text/x-python",
   "name": "python",
   "nbconvert_exporter": "python",
   "pygments_lexer": "ipython3",
   "version": "3.6.5"
  }
 },
 "nbformat": 4,
 "nbformat_minor": 1
}
